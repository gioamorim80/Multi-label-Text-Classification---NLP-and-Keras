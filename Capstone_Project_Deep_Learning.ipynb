{
 "cells": [
  {
   "cell_type": "markdown",
   "metadata": {
    "colab_type": "text",
    "id": "U6tWYYuY7wkD"
   },
   "source": [
    "### Keras with GloVe Word Embeddings \n",
    "\n",
    "We will now try some more advanced tecniques to see if that will improve our results. We will use GloVe pre-trained word embeddings and a neural network model with Keras.\n",
    "\n",
    "We will load a pickled version of the Common Crawl GloVe model with 840B tokens, 2.2M vocab, cased, and 300d vectors. Loading the pickled version is much faster than loading the entire 2.03 GB glove model."
   ]
  },
  {
   "cell_type": "code",
   "execution_count": 1,
   "metadata": {
    "colab": {
     "base_uri": "https://localhost:8080/",
     "height": 97
    },
    "colab_type": "code",
    "executionInfo": {
     "elapsed": 4354,
     "status": "ok",
     "timestamp": 1584291901292,
     "user": {
      "displayName": "Giovanna Fernandes",
      "photoUrl": "https://lh3.googleusercontent.com/a-/AOh14GjfNzHhZVLeDUwxs-pLsh_D3UizYvQBMMij6dCh_SY=s64",
      "userId": "05605014605169766097"
     },
     "user_tz": 240
    },
    "id": "Enf_Tg377BEg",
    "outputId": "34f7e0cc-1751-4dc9-e10e-4169b7f2d3b4"
   },
   "outputs": [
    {
     "name": "stderr",
     "output_type": "stream",
     "text": [
      "Using TensorFlow backend.\n"
     ]
    },
    {
     "data": {
      "text/html": [
       "<p style=\"color: red;\">\n",
       "The default version of TensorFlow in Colab will soon switch to TensorFlow 2.x.<br>\n",
       "We recommend you <a href=\"https://www.tensorflow.org/guide/migrate\" target=\"_blank\">upgrade</a> now \n",
       "or ensure your notebook will continue to use TensorFlow 1.x via the <code>%tensorflow_version 1.x</code> magic:\n",
       "<a href=\"https://colab.research.google.com/notebooks/tensorflow_version.ipynb\" target=\"_blank\">more info</a>.</p>\n"
      ],
      "text/plain": [
       "<IPython.core.display.HTML object>"
      ]
     },
     "metadata": {
      "tags": []
     },
     "output_type": "display_data"
    }
   ],
   "source": [
    "# import libraries\n",
    "import pandas as pd\n",
    "import numpy as np\n",
    "from sklearn.model_selection import train_test_split\n",
    "from sklearn.metrics import classification_report\n",
    "from sklearn import preprocessing\n",
    "from keras.preprocessing import text\n",
    "from keras.preprocessing import sequence\n",
    "from keras.models import Model\n",
    "from keras.callbacks import ModelCheckpoint\n",
    "from keras.optimizers import SGD\n",
    "from keras.layers import Input\n",
    "from keras.layers import Dense\n",
    "from keras.layers import Embedding\n",
    "from keras.layers import add\n",
    "from keras.layers import Concatenate\n",
    "from keras.layers import concatenate\n",
    "from keras.layers import Bidirectional\n",
    "from keras.layers import GlobalMaxPooling1D\n",
    "from keras.layers import GlobalAveragePooling1D\n",
    "from keras.layers import LSTM\n",
    "import re\n",
    "import joblib\n",
    "import pickle\n",
    "import torch\n",
    "from time import time\n",
    "import warnings\n",
    "warnings.filterwarnings(\"ignore\")\n",
    "np.random.seed(123)"
   ]
  },
  {
   "cell_type": "code",
   "execution_count": 2,
   "metadata": {
    "colab": {
     "base_uri": "https://localhost:8080/",
     "height": 122
    },
    "colab_type": "code",
    "executionInfo": {
     "elapsed": 58538,
     "status": "ok",
     "timestamp": 1584291956827,
     "user": {
      "displayName": "Giovanna Fernandes",
      "photoUrl": "https://lh3.googleusercontent.com/a-/AOh14GjfNzHhZVLeDUwxs-pLsh_D3UizYvQBMMij6dCh_SY=s64",
      "userId": "05605014605169766097"
     },
     "user_tz": 240
    },
    "id": "APVW7vf47Msw",
    "outputId": "c94c28f6-afea-4cb0-9e9e-d20bf229424b"
   },
   "outputs": [
    {
     "name": "stdout",
     "output_type": "stream",
     "text": [
      "Go to this URL in a browser: https://accounts.google.com/o/oauth2/auth?client_id=947318989803-6bn6qk8qdgf4n4g3pfee6491hc0brc4i.apps.googleusercontent.com&redirect_uri=urn%3aietf%3awg%3aoauth%3a2.0%3aoob&response_type=code&scope=email%20https%3a%2f%2fwww.googleapis.com%2fauth%2fdocs.test%20https%3a%2f%2fwww.googleapis.com%2fauth%2fdrive%20https%3a%2f%2fwww.googleapis.com%2fauth%2fdrive.photos.readonly%20https%3a%2f%2fwww.googleapis.com%2fauth%2fpeopleapi.readonly\n",
      "\n",
      "Enter your authorization code:\n",
      "··········\n",
      "Mounted at /content/drive\n"
     ]
    }
   ],
   "source": [
    "from google.colab import drive\n",
    "drive.mount('/content/drive')"
   ]
  },
  {
   "cell_type": "code",
   "execution_count": 0,
   "metadata": {
    "colab": {},
    "colab_type": "code",
    "id": "-nPGmp9Z7MzW"
   },
   "outputs": [],
   "source": [
    "# import data downloaded from Kaggle\n",
    "df = pd.read_csv('/content/drive/My Drive/Colab Notebooks/train.csv')"
   ]
  },
  {
   "cell_type": "code",
   "execution_count": 0,
   "metadata": {
    "colab": {},
    "colab_type": "code",
    "id": "BmEdnOVf7M2M"
   },
   "outputs": [],
   "source": [
    "# selecting only relevant question features\n",
    "question_columns = ['question_title', 'question_body','category']\n",
    "features = df[question_columns]\n",
    "\n",
    "# selecting only the question target columns we will be working with\n",
    "target_columns = ['question_asker_intent_understanding', 'question_conversational', 'question_expect_short_answer'\n",
    "                  , 'question_fact_seeking', 'question_has_commonly_accepted_answer', 'question_multi_intent'\n",
    "                  , 'question_opinion_seeking', 'question_well_written']\n",
    "target = df[target_columns]"
   ]
  },
  {
   "cell_type": "code",
   "execution_count": 5,
   "metadata": {
    "colab": {
     "base_uri": "https://localhost:8080/",
     "height": 51
    },
    "colab_type": "code",
    "executionInfo": {
     "elapsed": 441,
     "status": "ok",
     "timestamp": 1584292005434,
     "user": {
      "displayName": "Giovanna Fernandes",
      "photoUrl": "https://lh3.googleusercontent.com/a-/AOh14GjfNzHhZVLeDUwxs-pLsh_D3UizYvQBMMij6dCh_SY=s64",
      "userId": "05605014605169766097"
     },
     "user_tz": 240
    },
    "id": "FTD4bDTO7MxR",
    "outputId": "109e4436-1faa-4ee7-cfd2-3b2759f700f4"
   },
   "outputs": [
    {
     "name": "stdout",
     "output_type": "stream",
     "text": [
      "Features train shape:(4863, 3), Target train shape:(4863, 8)\n",
      "Features test shape:(1216, 3), Target test shape:(1216, 8)\n"
     ]
    }
   ],
   "source": [
    "# split data to avoid leakage\n",
    "X_train, X_test, y_train, y_test = train_test_split(features, target, test_size=0.2, random_state=123)\n",
    "\n",
    "print(f'Features train shape:{X_train.shape}, Target train shape:{y_train.shape}')\n",
    "print(f'Features test shape:{X_test.shape}, Target test shape:{y_test.shape}')"
   ]
  },
  {
   "cell_type": "code",
   "execution_count": 6,
   "metadata": {
    "colab": {
     "base_uri": "https://localhost:8080/",
     "height": 224
    },
    "colab_type": "code",
    "executionInfo": {
     "elapsed": 229,
     "status": "ok",
     "timestamp": 1584292005647,
     "user": {
      "displayName": "Giovanna Fernandes",
      "photoUrl": "https://lh3.googleusercontent.com/a-/AOh14GjfNzHhZVLeDUwxs-pLsh_D3UizYvQBMMij6dCh_SY=s64",
      "userId": "05605014605169766097"
     },
     "user_tz": 240
    },
    "id": "hQ5g8ulk7gs9",
    "outputId": "c47a1734-eef1-4e87-9aa2-371779af6e47"
   },
   "outputs": [
    {
     "data": {
      "text/html": [
       "<div>\n",
       "<style scoped>\n",
       "    .dataframe tbody tr th:only-of-type {\n",
       "        vertical-align: middle;\n",
       "    }\n",
       "\n",
       "    .dataframe tbody tr th {\n",
       "        vertical-align: top;\n",
       "    }\n",
       "\n",
       "    .dataframe thead th {\n",
       "        text-align: right;\n",
       "    }\n",
       "</style>\n",
       "<table border=\"1\" class=\"dataframe\">\n",
       "  <thead>\n",
       "    <tr style=\"text-align: right;\">\n",
       "      <th></th>\n",
       "      <th>question_asker_intent_understanding</th>\n",
       "      <th>question_conversational</th>\n",
       "      <th>question_expect_short_answer</th>\n",
       "      <th>question_fact_seeking</th>\n",
       "      <th>question_has_commonly_accepted_answer</th>\n",
       "      <th>question_multi_intent</th>\n",
       "      <th>question_opinion_seeking</th>\n",
       "      <th>question_well_written</th>\n",
       "    </tr>\n",
       "  </thead>\n",
       "  <tbody>\n",
       "    <tr>\n",
       "      <th>4267</th>\n",
       "      <td>1</td>\n",
       "      <td>0</td>\n",
       "      <td>1</td>\n",
       "      <td>0</td>\n",
       "      <td>1</td>\n",
       "      <td>0</td>\n",
       "      <td>1</td>\n",
       "      <td>1</td>\n",
       "    </tr>\n",
       "    <tr>\n",
       "      <th>2641</th>\n",
       "      <td>1</td>\n",
       "      <td>0</td>\n",
       "      <td>1</td>\n",
       "      <td>1</td>\n",
       "      <td>0</td>\n",
       "      <td>0</td>\n",
       "      <td>1</td>\n",
       "      <td>1</td>\n",
       "    </tr>\n",
       "    <tr>\n",
       "      <th>838</th>\n",
       "      <td>1</td>\n",
       "      <td>0</td>\n",
       "      <td>1</td>\n",
       "      <td>1</td>\n",
       "      <td>1</td>\n",
       "      <td>0</td>\n",
       "      <td>1</td>\n",
       "      <td>1</td>\n",
       "    </tr>\n",
       "    <tr>\n",
       "      <th>553</th>\n",
       "      <td>1</td>\n",
       "      <td>0</td>\n",
       "      <td>0</td>\n",
       "      <td>1</td>\n",
       "      <td>1</td>\n",
       "      <td>0</td>\n",
       "      <td>0</td>\n",
       "      <td>1</td>\n",
       "    </tr>\n",
       "    <tr>\n",
       "      <th>5428</th>\n",
       "      <td>1</td>\n",
       "      <td>0</td>\n",
       "      <td>1</td>\n",
       "      <td>0</td>\n",
       "      <td>1</td>\n",
       "      <td>0</td>\n",
       "      <td>1</td>\n",
       "      <td>1</td>\n",
       "    </tr>\n",
       "  </tbody>\n",
       "</table>\n",
       "</div>"
      ],
      "text/plain": [
       "      question_asker_intent_understanding  ...  question_well_written\n",
       "4267                                    1  ...                      1\n",
       "2641                                    1  ...                      1\n",
       "838                                     1  ...                      1\n",
       "553                                     1  ...                      1\n",
       "5428                                    1  ...                      1\n",
       "\n",
       "[5 rows x 8 columns]"
      ]
     },
     "execution_count": 6,
     "metadata": {
      "tags": []
     },
     "output_type": "execute_result"
    }
   ],
   "source": [
    "# tranform continuous values into binary categorical ones\n",
    "for column in y_train:\n",
    "    y_train[column] = np.where(y_train[column] >= .5, 1, 0)\n",
    "\n",
    "# check it worked fine\n",
    "y_train.head()"
   ]
  },
  {
   "cell_type": "code",
   "execution_count": 0,
   "metadata": {
    "colab": {},
    "colab_type": "code",
    "id": "PSrdAMt67gyS"
   },
   "outputs": [],
   "source": [
    "# do the same for test data\n",
    "for column in y_test:\n",
    "    y_test[column] = np.where(y_test[column] >= .5, 1, 0)"
   ]
  },
  {
   "cell_type": "code",
   "execution_count": 8,
   "metadata": {
    "colab": {
     "base_uri": "https://localhost:8080/",
     "height": 34
    },
    "colab_type": "code",
    "executionInfo": {
     "elapsed": 45242,
     "status": "ok",
     "timestamp": 1584292051495,
     "user": {
      "displayName": "Giovanna Fernandes",
      "photoUrl": "https://lh3.googleusercontent.com/a-/AOh14GjfNzHhZVLeDUwxs-pLsh_D3UizYvQBMMij6dCh_SY=s64",
      "userId": "05605014605169766097"
     },
     "user_tz": 240
    },
    "id": "9Tn32Txl7g1h",
    "outputId": "ec042713-8afc-47ab-e6e1-c38ca5fc8f27"
   },
   "outputs": [
    {
     "name": "stdout",
     "output_type": "stream",
     "text": [
      "44.46119260787964\n"
     ]
    }
   ],
   "source": [
    "# load glove model from pickle\n",
    "t = time()\n",
    "with open('/content/drive/My Drive/Colab Notebooks/glove.840B.300d.pkl', 'rb') as f:\n",
    "    glove = pickle.load(f)\n",
    "print(time()-t)"
   ]
  },
  {
   "cell_type": "code",
   "execution_count": 9,
   "metadata": {
    "colab": {
     "base_uri": "https://localhost:8080/",
     "height": 34
    },
    "colab_type": "code",
    "executionInfo": {
     "elapsed": 44800,
     "status": "ok",
     "timestamp": 1584292051498,
     "user": {
      "displayName": "Giovanna Fernandes",
      "photoUrl": "https://lh3.googleusercontent.com/a-/AOh14GjfNzHhZVLeDUwxs-pLsh_D3UizYvQBMMij6dCh_SY=s64",
      "userId": "05605014605169766097"
     },
     "user_tz": 240
    },
    "id": "NRQAplfr7gwn",
    "outputId": "45e42420-2c3f-47b4-9158-03cd617e32b6"
   },
   "outputs": [
    {
     "data": {
      "text/plain": [
       "(dict, 2196008)"
      ]
     },
     "execution_count": 9,
     "metadata": {
      "tags": []
     },
     "output_type": "execute_result"
    }
   ],
   "source": [
    "# check we have a dictionary of word embeddings with close to 2.2M words\n",
    "type(glove), len(glove)"
   ]
  },
  {
   "cell_type": "markdown",
   "metadata": {
    "colab_type": "text",
    "id": "xWj1eBZi77HK"
   },
   "source": [
    "Great, our GloVe dictionary is ready and it took only a few seconds to load. Because this glove model is for cased words and has such a large vocabulary, we will try to use our text without removing stopwords or lowercasing everything. I'll do another helper function to clean the text to this extent only."
   ]
  },
  {
   "cell_type": "code",
   "execution_count": 0,
   "metadata": {
    "colab": {},
    "colab_type": "code",
    "id": "zWjaI01K721D"
   },
   "outputs": [],
   "source": [
    "# define function to clean text for glove\n",
    "def clean_4glove(text):\n",
    "\n",
    "    '''Takes a corpus of text and applies regex to clean it, removing punctuation, numbers, single characters,\n",
    "multiples spaces and stopwords. Converts all text to lower case. Returns cleaned text.'''\n",
    "    \n",
    "    # Remove punctuations and single numbers\n",
    "    text = re.sub('[^a-zA-Z]', ' ', text)\n",
    "    \n",
    "    # Remove sequences of numbers\n",
    "    text = re.sub(r'\\d+', ' ', text)\n",
    "\n",
    "    # Remove single character\n",
    "    text = re.sub(r'\\s+[a-zA-Z]\\s+', ' ', text)\n",
    "\n",
    "    # Remove multiple spaces\n",
    "    text = re.sub(r'\\s+', ' ', text)\n",
    "    \n",
    "    return text"
   ]
  },
  {
   "cell_type": "code",
   "execution_count": 0,
   "metadata": {
    "colab": {},
    "colab_type": "code",
    "id": "Y9wFXdAd7-q0"
   },
   "outputs": [],
   "source": [
    "# list text columns\n",
    "columns = ['question_title','question_body']\n",
    "\n",
    "# clean train text data\n",
    "for col in columns:\n",
    "    X_train[col] = X_train[col].apply(lambda x: clean_4glove(x))\n",
    "\n",
    "# clean test text data\n",
    "for col in columns:\n",
    "    X_test[col] = X_test[col].apply(lambda x: clean_4glove(x))"
   ]
  },
  {
   "cell_type": "code",
   "execution_count": 12,
   "metadata": {
    "colab": {
     "base_uri": "https://localhost:8080/",
     "height": 289
    },
    "colab_type": "code",
    "executionInfo": {
     "elapsed": 45002,
     "status": "ok",
     "timestamp": 1584292053550,
     "user": {
      "displayName": "Giovanna Fernandes",
      "photoUrl": "https://lh3.googleusercontent.com/a-/AOh14GjfNzHhZVLeDUwxs-pLsh_D3UizYvQBMMij6dCh_SY=s64",
      "userId": "05605014605169766097"
     },
     "user_tz": 240
    },
    "id": "cjDE0ZAQ7-tc",
    "outputId": "15d7651f-c7e7-4384-db0f-5955d9aea00b"
   },
   "outputs": [
    {
     "data": {
      "text/html": [
       "<div>\n",
       "<style scoped>\n",
       "    .dataframe tbody tr th:only-of-type {\n",
       "        vertical-align: middle;\n",
       "    }\n",
       "\n",
       "    .dataframe tbody tr th {\n",
       "        vertical-align: top;\n",
       "    }\n",
       "\n",
       "    .dataframe thead th {\n",
       "        text-align: right;\n",
       "    }\n",
       "</style>\n",
       "<table border=\"1\" class=\"dataframe\">\n",
       "  <thead>\n",
       "    <tr style=\"text-align: right;\">\n",
       "      <th></th>\n",
       "      <th>question_title</th>\n",
       "      <th>question_body</th>\n",
       "      <th>category</th>\n",
       "    </tr>\n",
       "  </thead>\n",
       "  <tbody>\n",
       "    <tr>\n",
       "      <th>4267</th>\n",
       "      <td>Create Valid XML from XSD Loaded at Runtime wi...</td>\n",
       "      <td>Possible Duplicate Programmatically Create XM...</td>\n",
       "      <td>STACKOVERFLOW</td>\n",
       "    </tr>\n",
       "    <tr>\n",
       "      <th>2641</th>\n",
       "      <td>When enumerating motivations is it correct to ...</td>\n",
       "      <td>Suppose am enumerating reasons not to fly Is i...</td>\n",
       "      <td>CULTURE</td>\n",
       "    </tr>\n",
       "    <tr>\n",
       "      <th>838</th>\n",
       "      <td>hard self collision make particles occupy space</td>\n",
       "      <td>By default Blender particles don have any spat...</td>\n",
       "      <td>TECHNOLOGY</td>\n",
       "    </tr>\n",
       "    <tr>\n",
       "      <th>553</th>\n",
       "      <td>Removing unwanted color from W image aperture</td>\n",
       "      <td>I ve been shooting ilford color process amp fi...</td>\n",
       "      <td>LIFE_ARTS</td>\n",
       "    </tr>\n",
       "    <tr>\n",
       "      <th>5428</th>\n",
       "      <td>Binary tree traversal without using recursion</td>\n",
       "      <td>Can anyone help to to create binary tree and d...</td>\n",
       "      <td>STACKOVERFLOW</td>\n",
       "    </tr>\n",
       "  </tbody>\n",
       "</table>\n",
       "</div>"
      ],
      "text/plain": [
       "                                         question_title  ...       category\n",
       "4267  Create Valid XML from XSD Loaded at Runtime wi...  ...  STACKOVERFLOW\n",
       "2641  When enumerating motivations is it correct to ...  ...        CULTURE\n",
       "838     hard self collision make particles occupy space  ...     TECHNOLOGY\n",
       "553      Removing unwanted color from W image aperture   ...      LIFE_ARTS\n",
       "5428      Binary tree traversal without using recursion  ...  STACKOVERFLOW\n",
       "\n",
       "[5 rows x 3 columns]"
      ]
     },
     "execution_count": 12,
     "metadata": {
      "tags": []
     },
     "output_type": "execute_result"
    }
   ],
   "source": [
    "X_train.head()"
   ]
  },
  {
   "cell_type": "code",
   "execution_count": 0,
   "metadata": {
    "colab": {},
    "colab_type": "code",
    "id": "BC8zlJUZ7-w1"
   },
   "outputs": [],
   "source": [
    "# instantiate and fit keras tokenizer to text \n",
    "tokenizer = text.Tokenizer(num_words=10000, filters='',lower=False)\n",
    "tokenizer.fit_on_texts(list(X_train['question_title'])+list(X_train['question_body']))"
   ]
  },
  {
   "cell_type": "code",
   "execution_count": 0,
   "metadata": {
    "colab": {},
    "colab_type": "code",
    "id": "sBUYH0zs8SNl"
   },
   "outputs": [],
   "source": [
    "# define an embedding matrix\n",
    "glove_matrix = np.zeros((len(tokenizer.word_index) + 1, 300))"
   ]
  },
  {
   "cell_type": "code",
   "execution_count": 0,
   "metadata": {
    "colab": {},
    "colab_type": "code",
    "id": "LvwyZ6fj8SRy"
   },
   "outputs": [],
   "source": [
    "# get embeddings from GloVe and list out of vocabulary words\n",
    "unknown_words = []\n",
    "    \n",
    "for word, i in tokenizer.word_index.items():\n",
    "    try:\n",
    "        glove_matrix[i] = glove[word]\n",
    "    except KeyError:\n",
    "        unknown_words.append(word)"
   ]
  },
  {
   "cell_type": "code",
   "execution_count": 16,
   "metadata": {
    "colab": {
     "base_uri": "https://localhost:8080/",
     "height": 34
    },
    "colab_type": "code",
    "executionInfo": {
     "elapsed": 43698,
     "status": "ok",
     "timestamp": 1584292054119,
     "user": {
      "displayName": "Giovanna Fernandes",
      "photoUrl": "https://lh3.googleusercontent.com/a-/AOh14GjfNzHhZVLeDUwxs-pLsh_D3UizYvQBMMij6dCh_SY=s64",
      "userId": "05605014605169766097"
     },
     "user_tz": 240
    },
    "id": "a-ZlAH6T8SZL",
    "outputId": "5bf383bd-9105-4145-a038-41ae6b8d2ce1"
   },
   "outputs": [
    {
     "data": {
      "text/plain": [
       "4910"
      ]
     },
     "execution_count": 16,
     "metadata": {
      "tags": []
     },
     "output_type": "execute_result"
    }
   ],
   "source": [
    "# check how many words we don't have embedding for\n",
    "len(unknown_words)"
   ]
  },
  {
   "cell_type": "code",
   "execution_count": 17,
   "metadata": {
    "colab": {
     "base_uri": "https://localhost:8080/",
     "height": 357
    },
    "colab_type": "code",
    "executionInfo": {
     "elapsed": 43257,
     "status": "ok",
     "timestamp": 1584292054122,
     "user": {
      "displayName": "Giovanna Fernandes",
      "photoUrl": "https://lh3.googleusercontent.com/a-/AOh14GjfNzHhZVLeDUwxs-pLsh_D3UizYvQBMMij6dCh_SY=s64",
      "userId": "05605014605169766097"
     },
     "user_tz": 240
    },
    "id": "3VkiDOTm8Ynn",
    "outputId": "c3eeedfb-5cd9-475d-a372-469146fcefdc"
   },
   "outputs": [
    {
     "data": {
      "text/plain": [
       "['RippleShaderProgram',\n",
       " 'Appium',\n",
       " 'jsonobject',\n",
       " 'aStack',\n",
       " 'ShaderProgramConstants',\n",
       " 'Bodycopy',\n",
       " 'appium',\n",
       " 'myStaticIntStack',\n",
       " 'pGLState',\n",
       " 'Explosionfilters',\n",
       " 'setaf',\n",
       " 'setab',\n",
       " 'AndroidRuntime',\n",
       " 'instrumentsettingsid',\n",
       " 'stackSize',\n",
       " 'storedElements',\n",
       " 'brmfc',\n",
       " 'ComboBoxItem',\n",
       " 'PSPlayer',\n",
       " 'AppiumForWindows']"
      ]
     },
     "execution_count": 17,
     "metadata": {
      "tags": []
     },
     "output_type": "execute_result"
    }
   ],
   "source": [
    "# have a look at some of them\n",
    "unknown_words[:20]"
   ]
  },
  {
   "cell_type": "markdown",
   "metadata": {
    "colab_type": "text",
    "id": "IdoKxuPA8dn7"
   },
   "source": [
    "Looks like a good part of our out-of-vocabulary words are due to typing mistakes such as skipping a space. This would be hard to fix unless we could do it manually, which would be too time-consuming for our project. "
   ]
  },
  {
   "cell_type": "code",
   "execution_count": 0,
   "metadata": {
    "colab": {},
    "colab_type": "code",
    "id": "2exuo8ta8Ysr"
   },
   "outputs": [],
   "source": [
    "embedding_matrix = np.concatenate([glove_matrix], axis=-1)"
   ]
  },
  {
   "cell_type": "code",
   "execution_count": 19,
   "metadata": {
    "colab": {
     "base_uri": "https://localhost:8080/",
     "height": 34
    },
    "colab_type": "code",
    "executionInfo": {
     "elapsed": 40189,
     "status": "ok",
     "timestamp": 1584292054290,
     "user": {
      "displayName": "Giovanna Fernandes",
      "photoUrl": "https://lh3.googleusercontent.com/a-/AOh14GjfNzHhZVLeDUwxs-pLsh_D3UizYvQBMMij6dCh_SY=s64",
      "userId": "05605014605169766097"
     },
     "user_tz": 240
    },
    "id": "P1N5lJYu8Y4R",
    "outputId": "2748c447-465e-47c5-a681-52dcb85cb9a4"
   },
   "outputs": [
    {
     "data": {
      "text/plain": [
       "29521"
      ]
     },
     "execution_count": 19,
     "metadata": {
      "tags": []
     },
     "output_type": "execute_result"
    }
   ],
   "source": [
    "len(embedding_matrix)"
   ]
  },
  {
   "cell_type": "code",
   "execution_count": 20,
   "metadata": {
    "colab": {
     "base_uri": "https://localhost:8080/",
     "height": 34
    },
    "colab_type": "code",
    "executionInfo": {
     "elapsed": 39956,
     "status": "ok",
     "timestamp": 1584292054291,
     "user": {
      "displayName": "Giovanna Fernandes",
      "photoUrl": "https://lh3.googleusercontent.com/a-/AOh14GjfNzHhZVLeDUwxs-pLsh_D3UizYvQBMMij6dCh_SY=s64",
      "userId": "05605014605169766097"
     },
     "user_tz": 240
    },
    "id": "p1D4YQ0-8ija",
    "outputId": "b398d5de-354d-4fcd-aca8-daaea0b94828"
   },
   "outputs": [
    {
     "data": {
      "text/plain": [
       "(29521, 300)"
      ]
     },
     "execution_count": 20,
     "metadata": {
      "tags": []
     },
     "output_type": "execute_result"
    }
   ],
   "source": [
    "embedding_matrix.shape"
   ]
  },
  {
   "cell_type": "code",
   "execution_count": 0,
   "metadata": {
    "colab": {},
    "colab_type": "code",
    "id": "XiSBfbdZ8ipe"
   },
   "outputs": [],
   "source": [
    "# tokenize train text features as separate inputs\n",
    "Xt_train = tokenizer.texts_to_sequences(X_train['question_title'])\n",
    "Xb_train = tokenizer.texts_to_sequences(X_train['question_body'])"
   ]
  },
  {
   "cell_type": "code",
   "execution_count": 0,
   "metadata": {
    "colab": {},
    "colab_type": "code",
    "id": "3-8mugUr8inI"
   },
   "outputs": [],
   "source": [
    "# tokenize test text features as separate inputs\n",
    "Xt_test = tokenizer.texts_to_sequences(X_test['question_title'])\n",
    "Xb_test = tokenizer.texts_to_sequences(X_test['question_body'])"
   ]
  },
  {
   "cell_type": "code",
   "execution_count": 23,
   "metadata": {
    "colab": {
     "base_uri": "https://localhost:8080/",
     "height": 34
    },
    "colab_type": "code",
    "executionInfo": {
     "elapsed": 37697,
     "status": "ok",
     "timestamp": 1584292054620,
     "user": {
      "displayName": "Giovanna Fernandes",
      "photoUrl": "https://lh3.googleusercontent.com/a-/AOh14GjfNzHhZVLeDUwxs-pLsh_D3UizYvQBMMij6dCh_SY=s64",
      "userId": "05605014605169766097"
     },
     "user_tz": 240
    },
    "id": "exqb9mDt8ooV",
    "outputId": "1041271d-8d9f-433c-9b8a-942e31f6b88b"
   },
   "outputs": [
    {
     "data": {
      "text/plain": [
       "(4863, list)"
      ]
     },
     "execution_count": 23,
     "metadata": {
      "tags": []
     },
     "output_type": "execute_result"
    }
   ],
   "source": [
    "# check length and type\n",
    "len(Xt_train), type(Xt_train)"
   ]
  },
  {
   "cell_type": "code",
   "execution_count": 24,
   "metadata": {
    "colab": {
     "base_uri": "https://localhost:8080/",
     "height": 34
    },
    "colab_type": "code",
    "executionInfo": {
     "elapsed": 37409,
     "status": "ok",
     "timestamp": 1584292054621,
     "user": {
      "displayName": "Giovanna Fernandes",
      "photoUrl": "https://lh3.googleusercontent.com/a-/AOh14GjfNzHhZVLeDUwxs-pLsh_D3UizYvQBMMij6dCh_SY=s64",
      "userId": "05605014605169766097"
     },
     "user_tz": 240
    },
    "id": "9wC3TqRo8osC",
    "outputId": "1937a480-c342-4097-efd8-486261b784e6"
   },
   "outputs": [
    {
     "data": {
      "text/plain": [
       "[1108, 1392, 26, 7971, 29, 3771, 162, 3176, 1419]"
      ]
     },
     "execution_count": 24,
     "metadata": {
      "tags": []
     },
     "output_type": "execute_result"
    }
   ],
   "source": [
    "# check one sample\n",
    "Xt_train[0]"
   ]
  },
  {
   "cell_type": "code",
   "execution_count": 0,
   "metadata": {
    "colab": {},
    "colab_type": "code",
    "id": "A8QpyDkX8ovv"
   },
   "outputs": [],
   "source": [
    "# pad train data into appropriate shape\n",
    "Xt_train = sequence.pad_sequences(Xt_train, maxlen=300)\n",
    "Xb_train = sequence.pad_sequences(Xb_train, maxlen=300)"
   ]
  },
  {
   "cell_type": "code",
   "execution_count": 0,
   "metadata": {
    "colab": {},
    "colab_type": "code",
    "id": "GupW6eYO8vGe"
   },
   "outputs": [],
   "source": [
    "# pad test data into appropriate shape\n",
    "Xt_test = sequence.pad_sequences(Xt_test, maxlen=300)\n",
    "Xb_test = sequence.pad_sequences(Xb_test, maxlen=300)"
   ]
  },
  {
   "cell_type": "code",
   "execution_count": 0,
   "metadata": {
    "colab": {},
    "colab_type": "code",
    "id": "W6ntwpk38vQi"
   },
   "outputs": [],
   "source": [
    "# instantiate and fit label encoder\n",
    "categories = preprocessing.LabelEncoder()\n",
    "categories.fit(list(X_train['category'].values))\n",
    "\n",
    "# encode train categorical feature\n",
    "X_train['category'] = categories.transform(list(X_train['category'].values))\n",
    "\n",
    "# encode test categorical feature\n",
    "X_test['category'] = categories.transform(list(X_test['category'].values))"
   ]
  },
  {
   "cell_type": "code",
   "execution_count": 0,
   "metadata": {
    "colab": {},
    "colab_type": "code",
    "id": "BljIrk9g8vNK"
   },
   "outputs": [],
   "source": [
    "# make categorical feature as separate input \n",
    "X_train_cat = X_train['category']\n",
    "X_test_cat = X_test['category']"
   ]
  },
  {
   "cell_type": "code",
   "execution_count": 29,
   "metadata": {
    "colab": {
     "base_uri": "https://localhost:8080/",
     "height": 34
    },
    "colab_type": "code",
    "executionInfo": {
     "elapsed": 32954,
     "status": "ok",
     "timestamp": 1584292054887,
     "user": {
      "displayName": "Giovanna Fernandes",
      "photoUrl": "https://lh3.googleusercontent.com/a-/AOh14GjfNzHhZVLeDUwxs-pLsh_D3UizYvQBMMij6dCh_SY=s64",
      "userId": "05605014605169766097"
     },
     "user_tz": 240
    },
    "id": "XutQ2xXo82En",
    "outputId": "a2000ef9-6c0f-4cb8-f188-33f730009ef5"
   },
   "outputs": [
    {
     "data": {
      "text/plain": [
       "((4863, 300), (4863, 300), (4863,))"
      ]
     },
     "execution_count": 29,
     "metadata": {
      "tags": []
     },
     "output_type": "execute_result"
    }
   ],
   "source": [
    "# check all input shapes\n",
    "Xt_train.shape, Xb_train.shape, X_train_cat.shape"
   ]
  },
  {
   "cell_type": "markdown",
   "metadata": {
    "colab_type": "text",
    "id": "rddzwbr79CIk"
   },
   "source": [
    "Let's build and try out a somewhat simple neural network with Keras. We will pass our categorical feature through a Dense layer with a sigmoid activation. Then, use an embedding layer that will encode our text with GloVe embeddings, and concatenate them. Then we will use a Long Short Term Memory network (LSTM) layer, which is commonly used for natural language processing models, with a bidirectional layer wrapper. We will follow the LSTM layer with a Global Max Pooling and a Global Average Pooling, add two hidden layers with relu and sigmoid activations. Finally we add the text and the categorical outputs and pass one final Dense layer with our 8 targets and a sigmoid activation that will work with our multi-label problem target. \n",
    "\n",
    "Let's construct it and see what it can do!"
   ]
  },
  {
   "cell_type": "code",
   "execution_count": 0,
   "metadata": {
    "colab": {},
    "colab_type": "code",
    "id": "I6AVsa7K82JA"
   },
   "outputs": [],
   "source": [
    "def build_model(embedding_matrix):\n",
    "    \n",
    "    title = Input(shape=(300,))\n",
    "    question_body = Input(shape=(300,))\n",
    "    category = Input(shape=(1,))\n",
    "    \n",
    "    category1 = Dense(30, activation='sigmoid')(category)\n",
    "    \n",
    "    title_embb = Embedding(*embedding_matrix.shape, weights=[embedding_matrix], trainable=False)(title)\n",
    "    body_embb = Embedding(*embedding_matrix.shape, weights=[embedding_matrix], trainable=False)(question_body)\n",
    "    concat = Concatenate(axis=1)\n",
    "    embb_final = concat([title_embb, body_embb])\n",
    "    \n",
    "    x1 = Bidirectional(LSTM(60, return_sequences=True))(embb_final)\n",
    "    hidden1 = concatenate([GlobalMaxPooling1D()(x1),GlobalAveragePooling1D()(x1)])\n",
    "    hidden1 = add([hidden1, Dense(240, activation='relu')(hidden1)])\n",
    "    hidden1 = Dense(30, activation='sigmoid')(hidden1)\n",
    "    \n",
    "    final = add([hidden1,category1])\n",
    "    result = Dense(8, activation='sigmoid')(final)\n",
    "    \n",
    "    model = Model(inputs=[title,question_body,category], outputs=result)\n",
    "    model._name = 'mymodel'\n",
    "    model.compile(loss='binary_crossentropy', metrics=['accuracy'], optimizer='adam')\n",
    "    model.summary()\n",
    "    return model"
   ]
  },
  {
   "cell_type": "code",
   "execution_count": 0,
   "metadata": {
    "colab": {},
    "colab_type": "code",
    "id": "gLKfIi_N9Fv7"
   },
   "outputs": [],
   "source": [
    "# add checkpoint\n",
    "filepath='weights-improvement-{epoch:02d}-{val_acc:.2f}.hdf5'\n",
    "checkpoint = ModelCheckpoint(filepath, monitor='val_acc', verbose=1, save_best_only=True, mode='max')\n",
    "callbacks_list = [checkpoint]"
   ]
  },
  {
   "cell_type": "code",
   "execution_count": 0,
   "metadata": {
    "colab": {},
    "colab_type": "code",
    "id": "RI0AR2c-9F3H"
   },
   "outputs": [],
   "source": [
    "model = build_model(embedding_matrix)\n",
    "model.fit([Xt_train,Xb_train,X_train_cat],\n",
    "            y_train,\n",
    "            batch_size=10,\n",
    "            epochs=8,\n",
    "            validation_data=([Xt_test,Xb_test,X_test_cat], y_test),\n",
    "            callbacks=callbacks_list,\n",
    "            verbose=2)"
   ]
  },
  {
   "cell_type": "code",
   "execution_count": 0,
   "metadata": {
    "colab": {},
    "colab_type": "code",
    "id": "6py6aNdr9Fst"
   },
   "outputs": [],
   "source": [
    "model_save_name = 'model.pt'\n",
    "path = F\"/content/drive/My Drive/Colab Notebooks/{model_save_name}\" \n",
    "torch.save(model, path)"
   ]
  },
  {
   "cell_type": "code",
   "execution_count": 31,
   "metadata": {
    "colab": {
     "base_uri": "https://localhost:8080/",
     "height": 530
    },
    "colab_type": "code",
    "executionInfo": {
     "elapsed": 4652,
     "status": "ok",
     "timestamp": 1584292070059,
     "user": {
      "displayName": "Giovanna Fernandes",
      "photoUrl": "https://lh3.googleusercontent.com/a-/AOh14GjfNzHhZVLeDUwxs-pLsh_D3UizYvQBMMij6dCh_SY=s64",
      "userId": "05605014605169766097"
     },
     "user_tz": 240
    },
    "id": "XcEWwgwh9R2J",
    "outputId": "e4944fa4-19cc-45c0-ec1a-55c5420881b6"
   },
   "outputs": [
    {
     "name": "stdout",
     "output_type": "stream",
     "text": [
      "WARNING:tensorflow:From /usr/local/lib/python3.6/dist-packages/keras/backend/tensorflow_backend.py:541: The name tf.placeholder is deprecated. Please use tf.compat.v1.placeholder instead.\n",
      "\n",
      "WARNING:tensorflow:From /usr/local/lib/python3.6/dist-packages/keras/backend/tensorflow_backend.py:66: The name tf.get_default_graph is deprecated. Please use tf.compat.v1.get_default_graph instead.\n",
      "\n",
      "WARNING:tensorflow:From /usr/local/lib/python3.6/dist-packages/keras/backend/tensorflow_backend.py:4432: The name tf.random_uniform is deprecated. Please use tf.random.uniform instead.\n",
      "\n",
      "WARNING:tensorflow:From /usr/local/lib/python3.6/dist-packages/keras/backend/tensorflow_backend.py:190: The name tf.get_default_session is deprecated. Please use tf.compat.v1.get_default_session instead.\n",
      "\n",
      "WARNING:tensorflow:From /usr/local/lib/python3.6/dist-packages/keras/backend/tensorflow_backend.py:197: The name tf.ConfigProto is deprecated. Please use tf.compat.v1.ConfigProto instead.\n",
      "\n",
      "WARNING:tensorflow:From /usr/local/lib/python3.6/dist-packages/keras/backend/tensorflow_backend.py:203: The name tf.Session is deprecated. Please use tf.compat.v1.Session instead.\n",
      "\n",
      "WARNING:tensorflow:From /usr/local/lib/python3.6/dist-packages/keras/backend/tensorflow_backend.py:207: The name tf.global_variables is deprecated. Please use tf.compat.v1.global_variables instead.\n",
      "\n",
      "WARNING:tensorflow:From /usr/local/lib/python3.6/dist-packages/keras/backend/tensorflow_backend.py:216: The name tf.is_variable_initialized is deprecated. Please use tf.compat.v1.is_variable_initialized instead.\n",
      "\n",
      "WARNING:tensorflow:From /usr/local/lib/python3.6/dist-packages/keras/backend/tensorflow_backend.py:223: The name tf.variables_initializer is deprecated. Please use tf.compat.v1.variables_initializer instead.\n",
      "\n",
      "WARNING:tensorflow:From /usr/local/lib/python3.6/dist-packages/keras/optimizers.py:793: The name tf.train.Optimizer is deprecated. Please use tf.compat.v1.train.Optimizer instead.\n",
      "\n",
      "WARNING:tensorflow:From /usr/local/lib/python3.6/dist-packages/keras/backend/tensorflow_backend.py:3657: The name tf.log is deprecated. Please use tf.math.log instead.\n",
      "\n",
      "WARNING:tensorflow:From /usr/local/lib/python3.6/dist-packages/tensorflow_core/python/ops/nn_impl.py:183: where (from tensorflow.python.ops.array_ops) is deprecated and will be removed in a future version.\n",
      "Instructions for updating:\n",
      "Use tf.where in 2.0, which has the same broadcast rule as np.where\n",
      "WARNING:tensorflow:From /usr/local/lib/python3.6/dist-packages/keras/backend/tensorflow_backend.py:1033: The name tf.assign_add is deprecated. Please use tf.compat.v1.assign_add instead.\n",
      "\n",
      "WARNING:tensorflow:From /usr/local/lib/python3.6/dist-packages/keras/backend/tensorflow_backend.py:1020: The name tf.assign is deprecated. Please use tf.compat.v1.assign instead.\n",
      "\n"
     ]
    }
   ],
   "source": [
    "model = torch.load('/content/drive/My Drive/Colab Notebooks/model.pt')"
   ]
  },
  {
   "cell_type": "code",
   "execution_count": 0,
   "metadata": {
    "colab": {},
    "colab_type": "code",
    "id": "tU7Q8toNi8UA"
   },
   "outputs": [],
   "source": [
    "# evaluate the model\n",
    "train_acc = model.evaluate([Xt_train,Xb_train,X_train_cat],\n",
    "            y_train, verbose=0)\n",
    "test_acc = model.evaluate([Xt_test,Xb_test,X_test_cat],\n",
    "            y_test, verbose=0)"
   ]
  },
  {
   "cell_type": "code",
   "execution_count": 33,
   "metadata": {
    "colab": {
     "base_uri": "https://localhost:8080/",
     "height": 51
    },
    "colab_type": "code",
    "executionInfo": {
     "elapsed": 24782,
     "status": "ok",
     "timestamp": 1584292100767,
     "user": {
      "displayName": "Giovanna Fernandes",
      "photoUrl": "https://lh3.googleusercontent.com/a-/AOh14GjfNzHhZVLeDUwxs-pLsh_D3UizYvQBMMij6dCh_SY=s64",
      "userId": "05605014605169766097"
     },
     "user_tz": 240
    },
    "id": "aebxQZUWjy2J",
    "outputId": "e3bedac2-d8af-4881-97a9-82846267a14b"
   },
   "outputs": [
    {
     "name": "stdout",
     "output_type": "stream",
     "text": [
      "Train Accuracy: 0.8713242853592384\n",
      "Test Accuracy: 0.839124177631579\n"
     ]
    }
   ],
   "source": [
    "print(\"Train Accuracy:\", train_acc[1])\n",
    "print(\"Test Accuracy:\", test_acc[1])"
   ]
  },
  {
   "cell_type": "code",
   "execution_count": 0,
   "metadata": {
    "colab": {},
    "colab_type": "code",
    "id": "c9maEo1MYtaj"
   },
   "outputs": [],
   "source": [
    "predicted = model.predict([Xt_test,Xb_test,X_test_cat])\n",
    "predicted[predicted>=0.5] = 1\n",
    "predicted[predicted<0.5] = 0"
   ]
  },
  {
   "cell_type": "code",
   "execution_count": 35,
   "metadata": {
    "colab": {
     "base_uri": "https://localhost:8080/",
     "height": 289
    },
    "colab_type": "code",
    "executionInfo": {
     "elapsed": 28314,
     "status": "ok",
     "timestamp": 1584292105818,
     "user": {
      "displayName": "Giovanna Fernandes",
      "photoUrl": "https://lh3.googleusercontent.com/a-/AOh14GjfNzHhZVLeDUwxs-pLsh_D3UizYvQBMMij6dCh_SY=s64",
      "userId": "05605014605169766097"
     },
     "user_tz": 240
    },
    "id": "QAcTft8K9VPR",
    "outputId": "55f7a2d1-9010-4b0d-bff3-b7bb5efeb836"
   },
   "outputs": [
    {
     "name": "stdout",
     "output_type": "stream",
     "text": [
      "                                       precision    recall  f1-score   support\n",
      "\n",
      "  question_asker_intent_understanding       0.99      1.00      0.99      1203\n",
      "              question_conversational       0.27      0.17      0.21        63\n",
      "         question_expect_short_answer       0.78      0.99      0.87       940\n",
      "                question_fact_seeking       0.85      0.95      0.90       989\n",
      "question_has_commonly_accepted_answer       0.90      0.93      0.92      1020\n",
      "                question_multi_intent       0.65      0.08      0.14       277\n",
      "             question_opinion_seeking       0.61      0.48      0.54       543\n",
      "                question_well_written       0.93      1.00      0.96      1127\n",
      "\n",
      "                            micro avg       0.87      0.88      0.87      6162\n",
      "                            macro avg       0.75      0.70      0.69      6162\n",
      "                         weighted avg       0.85      0.88      0.85      6162\n",
      "                          samples avg       0.87      0.89      0.87      6162\n",
      "\n"
     ]
    }
   ],
   "source": [
    "report = classification_report(y_test, predicted, target_names=y_test.columns)\n",
    "print(report)"
   ]
  },
  {
   "cell_type": "markdown",
   "metadata": {
    "colab_type": "text",
    "id": "gbXqPdTdy9o0"
   },
   "source": [
    "This is a good overall result, and its accuracy is much higher than what we could achieve with the Random Forest model. \n",
    "\n",
    "Unfortunately some targets continue to have low metrics, and this can be both due to the type of questions being complex for the machine to understand and thus correctly classify, or due to the sample sizes being so small when compared to other targets.\n",
    "\n",
    "We can experiment with a slightly more complex model, and try to run a few more epochs with a larger batch size to see if we can get any substantial improvements."
   ]
  },
  {
   "cell_type": "code",
   "execution_count": 0,
   "metadata": {
    "colab": {},
    "colab_type": "code",
    "id": "ZYAxDq29YWjl"
   },
   "outputs": [],
   "source": [
    "def build_model_2(embedding_matrix):\n",
    "    title = Input(shape=(300,))\n",
    "    question_body = Input(shape=(300,))\n",
    "    category = Input(shape=(1,))\n",
    "    \n",
    "    category1 = Dense(32, activation='sigmoid')(category)\n",
    "    \n",
    "    title_embb = Embedding(*embedding_matrix.shape, weights=[embedding_matrix], trainable=False)(title)\n",
    "    question_body_embb = Embedding(*embedding_matrix.shape, weights=[embedding_matrix], trainable=False)(question_body)\n",
    "    concat = Concatenate(axis=1)\n",
    "    embb_final = concat([title_embb,question_body_embb])\n",
    "    \n",
    "    x1 = Bidirectional(LSTM(200, return_sequences=True))(embb_final)\n",
    "    x1 = Bidirectional(LSTM(200, return_sequences=True))(x1)\n",
    "    hidden1 = concatenate([GlobalMaxPooling1D()(x1),GlobalAveragePooling1D()(x1)])\n",
    "    hidden1 = add([hidden1, Dense(800, activation='relu')(hidden1)])\n",
    "    hidden1 = Dense(32, activation='sigmoid')(hidden1)\n",
    "    \n",
    "    final = add([hidden1,category1])\n",
    "    result = Dense(8, activation='sigmoid')(final)\n",
    "    \n",
    "    model = Model(inputs=[title,question_body,category], outputs=result)\n",
    "    model._name = 'mymodel'\n",
    "    model.compile(loss='binary_crossentropy', metrics=['accuracy'], optimizer='adam')\n",
    "    model.summary()\n",
    "    return model"
   ]
  },
  {
   "cell_type": "code",
   "execution_count": 0,
   "metadata": {
    "colab": {},
    "colab_type": "code",
    "id": "sZT4cn6G0pfT"
   },
   "outputs": [],
   "source": [
    "# checkpoint\n",
    "filepath='weights-improvement-{epoch:02d}-{val_acc:.2f}.hdf5'\n",
    "checkpoint = ModelCheckpoint(filepath, monitor='val_acc', verbose=1, save_best_only=True, mode='max')\n",
    "callbacks_list = [checkpoint]"
   ]
  },
  {
   "cell_type": "code",
   "execution_count": 38,
   "metadata": {
    "colab": {
     "base_uri": "https://localhost:8080/",
     "height": 1000
    },
    "colab_type": "code",
    "executionInfo": {
     "elapsed": 1681516,
     "status": "ok",
     "timestamp": 1584302580524,
     "user": {
      "displayName": "Giovanna Fernandes",
      "photoUrl": "https://lh3.googleusercontent.com/a-/AOh14GjfNzHhZVLeDUwxs-pLsh_D3UizYvQBMMij6dCh_SY=s64",
      "userId": "05605014605169766097"
     },
     "user_tz": 240
    },
    "id": "HiokWsYB00WO",
    "outputId": "aeb20e8e-5fe6-4fba-9cd2-de629e4d20e1"
   },
   "outputs": [
    {
     "name": "stdout",
     "output_type": "stream",
     "text": [
      "Model: \"model_1\"\n",
      "__________________________________________________________________________________________________\n",
      "Layer (type)                    Output Shape         Param #     Connected to                     \n",
      "==================================================================================================\n",
      "input_1 (InputLayer)            (None, 300)          0                                            \n",
      "__________________________________________________________________________________________________\n",
      "input_2 (InputLayer)            (None, 300)          0                                            \n",
      "__________________________________________________________________________________________________\n",
      "embedding_1 (Embedding)         (None, 300, 300)     8856300     input_1[0][0]                    \n",
      "__________________________________________________________________________________________________\n",
      "embedding_2 (Embedding)         (None, 300, 300)     8856300     input_2[0][0]                    \n",
      "__________________________________________________________________________________________________\n",
      "concatenate_1 (Concatenate)     (None, 600, 300)     0           embedding_1[0][0]                \n",
      "                                                                 embedding_2[0][0]                \n",
      "__________________________________________________________________________________________________\n",
      "bidirectional_1 (Bidirectional) (None, 600, 400)     801600      concatenate_1[0][0]              \n",
      "__________________________________________________________________________________________________\n",
      "bidirectional_2 (Bidirectional) (None, 600, 400)     961600      bidirectional_1[0][0]            \n",
      "__________________________________________________________________________________________________\n",
      "global_max_pooling1d_1 (GlobalM (None, 400)          0           bidirectional_2[0][0]            \n",
      "__________________________________________________________________________________________________\n",
      "global_average_pooling1d_1 (Glo (None, 400)          0           bidirectional_2[0][0]            \n",
      "__________________________________________________________________________________________________\n",
      "concatenate_2 (Concatenate)     (None, 800)          0           global_max_pooling1d_1[0][0]     \n",
      "                                                                 global_average_pooling1d_1[0][0] \n",
      "__________________________________________________________________________________________________\n",
      "dense_2 (Dense)                 (None, 800)          640800      concatenate_2[0][0]              \n",
      "__________________________________________________________________________________________________\n",
      "add_1 (Add)                     (None, 800)          0           concatenate_2[0][0]              \n",
      "                                                                 dense_2[0][0]                    \n",
      "__________________________________________________________________________________________________\n",
      "input_3 (InputLayer)            (None, 1)            0                                            \n",
      "__________________________________________________________________________________________________\n",
      "dense_3 (Dense)                 (None, 32)           25632       add_1[0][0]                      \n",
      "__________________________________________________________________________________________________\n",
      "dense_1 (Dense)                 (None, 32)           64          input_3[0][0]                    \n",
      "__________________________________________________________________________________________________\n",
      "add_2 (Add)                     (None, 32)           0           dense_3[0][0]                    \n",
      "                                                                 dense_1[0][0]                    \n",
      "__________________________________________________________________________________________________\n",
      "dense_4 (Dense)                 (None, 8)            264         add_2[0][0]                      \n",
      "==================================================================================================\n",
      "Total params: 20,142,560\n",
      "Trainable params: 2,429,960\n",
      "Non-trainable params: 17,712,600\n",
      "__________________________________________________________________________________________________\n",
      "Train on 4863 samples, validate on 1216 samples\n",
      "Epoch 1/20\n",
      " - 529s - loss: 0.4575 - acc: 0.8012 - val_loss: 0.4042 - val_acc: 0.8269\n",
      "\n",
      "Epoch 00001: val_acc improved from -inf to 0.82689, saving model to weights-improvement-01-0.83.hdf5\n",
      "Epoch 2/20\n",
      " - 530s - loss: 0.4004 - acc: 0.8277 - val_loss: 0.4008 - val_acc: 0.8269\n",
      "\n",
      "Epoch 00002: val_acc did not improve from 0.82689\n",
      "Epoch 3/20\n",
      " - 535s - loss: 0.3990 - acc: 0.8277 - val_loss: 0.4000 - val_acc: 0.8269\n",
      "\n",
      "Epoch 00003: val_acc did not improve from 0.82689\n",
      "Epoch 4/20\n",
      " - 534s - loss: 0.3988 - acc: 0.8277 - val_loss: 0.3997 - val_acc: 0.8269\n",
      "\n",
      "Epoch 00004: val_acc did not improve from 0.82689\n",
      "Epoch 5/20\n",
      " - 526s - loss: 0.3983 - acc: 0.8277 - val_loss: 0.3999 - val_acc: 0.8269\n",
      "\n",
      "Epoch 00005: val_acc did not improve from 0.82689\n",
      "Epoch 6/20\n",
      " - 528s - loss: 0.3983 - acc: 0.8276 - val_loss: 0.3990 - val_acc: 0.8269\n",
      "\n",
      "Epoch 00006: val_acc did not improve from 0.82689\n",
      "Epoch 7/20\n",
      " - 515s - loss: 0.3980 - acc: 0.8277 - val_loss: 0.3989 - val_acc: 0.8269\n",
      "\n",
      "Epoch 00007: val_acc did not improve from 0.82689\n",
      "Epoch 8/20\n",
      " - 514s - loss: 0.3979 - acc: 0.8277 - val_loss: 0.3986 - val_acc: 0.8269\n",
      "\n",
      "Epoch 00008: val_acc did not improve from 0.82689\n",
      "Epoch 9/20\n",
      " - 513s - loss: 0.3977 - acc: 0.8277 - val_loss: 0.3988 - val_acc: 0.8269\n",
      "\n",
      "Epoch 00009: val_acc did not improve from 0.82689\n",
      "Epoch 10/20\n",
      " - 520s - loss: 0.3979 - acc: 0.8277 - val_loss: 0.3986 - val_acc: 0.8269\n",
      "\n",
      "Epoch 00010: val_acc did not improve from 0.82689\n",
      "Epoch 11/20\n",
      " - 524s - loss: 0.3977 - acc: 0.8273 - val_loss: 0.3985 - val_acc: 0.8269\n",
      "\n",
      "Epoch 00011: val_acc did not improve from 0.82689\n",
      "Epoch 12/20\n",
      " - 517s - loss: 0.3978 - acc: 0.8272 - val_loss: 0.3982 - val_acc: 0.8269\n",
      "\n",
      "Epoch 00012: val_acc did not improve from 0.82689\n",
      "Epoch 13/20\n",
      " - 520s - loss: 0.3973 - acc: 0.8277 - val_loss: 0.3979 - val_acc: 0.8269\n",
      "\n",
      "Epoch 00013: val_acc did not improve from 0.82689\n",
      "Epoch 14/20\n",
      " - 515s - loss: 0.3973 - acc: 0.8277 - val_loss: 0.3981 - val_acc: 0.8269\n",
      "\n",
      "Epoch 00014: val_acc did not improve from 0.82689\n",
      "Epoch 15/20\n",
      " - 514s - loss: 0.3973 - acc: 0.8277 - val_loss: 0.3980 - val_acc: 0.8269\n",
      "\n",
      "Epoch 00015: val_acc did not improve from 0.82689\n",
      "Epoch 16/20\n",
      " - 522s - loss: 0.3972 - acc: 0.8277 - val_loss: 0.3976 - val_acc: 0.8269\n",
      "\n",
      "Epoch 00016: val_acc did not improve from 0.82689\n",
      "Epoch 17/20\n",
      " - 518s - loss: 0.3972 - acc: 0.8277 - val_loss: 0.3976 - val_acc: 0.8269\n",
      "\n",
      "Epoch 00017: val_acc did not improve from 0.82689\n",
      "Epoch 18/20\n",
      " - 513s - loss: 0.3971 - acc: 0.8275 - val_loss: 0.3978 - val_acc: 0.8269\n",
      "\n",
      "Epoch 00018: val_acc did not improve from 0.82689\n",
      "Epoch 19/20\n",
      " - 514s - loss: 0.3971 - acc: 0.8277 - val_loss: 0.3979 - val_acc: 0.8269\n",
      "\n",
      "Epoch 00019: val_acc did not improve from 0.82689\n",
      "Epoch 20/20\n",
      " - 512s - loss: 0.3970 - acc: 0.8277 - val_loss: 0.3974 - val_acc: 0.8269\n",
      "\n",
      "Epoch 00020: val_acc did not improve from 0.82689\n"
     ]
    },
    {
     "data": {
      "text/plain": [
       "<keras.callbacks.History at 0x7f72acaadd68>"
      ]
     },
     "execution_count": 38,
     "metadata": {
      "tags": []
     },
     "output_type": "execute_result"
    }
   ],
   "source": [
    "model_2 = build_model_2(embedding_matrix)\n",
    "model_2.fit([Xt_train,Xb_train,X_train_cat],\n",
    "            y_train,\n",
    "            batch_size=32,\n",
    "            epochs=20,\n",
    "            validation_data=([Xt_test,Xb_test,X_test_cat], y_test),\n",
    "            callbacks=callbacks_list,\n",
    "            verbose=2)"
   ]
  },
  {
   "cell_type": "code",
   "execution_count": 0,
   "metadata": {
    "colab": {},
    "colab_type": "code",
    "id": "7YpGim0L1Fm5"
   },
   "outputs": [],
   "source": [
    "model_save_name = 'model_2.pt'\n",
    "path = F\"/content/drive/My Drive/Colab Notebooks/{model_save_name}\" \n",
    "torch.save(model_2, path)"
   ]
  },
  {
   "cell_type": "code",
   "execution_count": 40,
   "metadata": {
    "colab": {
     "base_uri": "https://localhost:8080/",
     "height": 51
    },
    "colab_type": "code",
    "executionInfo": {
     "elapsed": 85763,
     "status": "ok",
     "timestamp": 1584302666326,
     "user": {
      "displayName": "Giovanna Fernandes",
      "photoUrl": "https://lh3.googleusercontent.com/a-/AOh14GjfNzHhZVLeDUwxs-pLsh_D3UizYvQBMMij6dCh_SY=s64",
      "userId": "05605014605169766097"
     },
     "user_tz": 240
    },
    "id": "j-06LDeA1NyR",
    "outputId": "3ca018e5-b3a4-47f2-9cd7-df2b7f49f115"
   },
   "outputs": [
    {
     "name": "stdout",
     "output_type": "stream",
     "text": [
      "Train Accuracy: 0.8276526836144833\n",
      "Test Accuracy: 0.826891447368421\n"
     ]
    }
   ],
   "source": [
    "# evaluate the model\n",
    "train_acc_2 = model_2.evaluate([Xt_train,Xb_train,X_train_cat],\n",
    "            y_train, verbose=0)\n",
    "test_acc_2 = model_2.evaluate([Xt_test,Xb_test,X_test_cat],\n",
    "            y_test, verbose=0)\n",
    "\n",
    "print(\"Train Accuracy:\", train_acc_2[1])\n",
    "print(\"Test Accuracy:\", test_acc_2[1])"
   ]
  },
  {
   "cell_type": "code",
   "execution_count": 0,
   "metadata": {
    "colab": {},
    "colab_type": "code",
    "id": "IFJ_p2bF609N"
   },
   "outputs": [],
   "source": [
    "predicted_2 = model_2.predict([Xt_test,Xb_test,X_test_cat])\n",
    "predicted_2[predicted_2>=0.5] = 1\n",
    "predicted_2[predicted_2<0.5] = 0"
   ]
  },
  {
   "cell_type": "code",
   "execution_count": 42,
   "metadata": {
    "colab": {
     "base_uri": "https://localhost:8080/",
     "height": 289
    },
    "colab_type": "code",
    "executionInfo": {
     "elapsed": 102848,
     "status": "ok",
     "timestamp": 1584302683429,
     "user": {
      "displayName": "Giovanna Fernandes",
      "photoUrl": "https://lh3.googleusercontent.com/a-/AOh14GjfNzHhZVLeDUwxs-pLsh_D3UizYvQBMMij6dCh_SY=s64",
      "userId": "05605014605169766097"
     },
     "user_tz": 240
    },
    "id": "UHIPF9e_61E2",
    "outputId": "09d76a3b-6e89-48e8-f760-dfcb0214f6c6"
   },
   "outputs": [
    {
     "name": "stdout",
     "output_type": "stream",
     "text": [
      "                                       precision    recall  f1-score   support\n",
      "\n",
      "  question_asker_intent_understanding       0.99      1.00      0.99      1203\n",
      "              question_conversational       0.00      0.00      0.00        63\n",
      "         question_expect_short_answer       0.77      1.00      0.87       940\n",
      "                question_fact_seeking       0.81      1.00      0.90       989\n",
      "question_has_commonly_accepted_answer       0.84      1.00      0.91      1020\n",
      "                question_multi_intent       0.00      0.00      0.00       277\n",
      "             question_opinion_seeking       0.00      0.00      0.00       543\n",
      "                question_well_written       0.93      1.00      0.96      1127\n",
      "\n",
      "                            micro avg       0.87      0.86      0.86      6162\n",
      "                            macro avg       0.54      0.62      0.58      6162\n",
      "                         weighted avg       0.75      0.86      0.80      6162\n",
      "                          samples avg       0.87      0.86      0.86      6162\n",
      "\n"
     ]
    }
   ],
   "source": [
    "report_2 = classification_report(y_test, predicted_2, target_names=y_test.columns)\n",
    "print(report_2)"
   ]
  },
  {
   "cell_type": "code",
   "execution_count": 0,
   "metadata": {
    "colab": {},
    "colab_type": "code",
    "id": "bkLyGFnr7F4j"
   },
   "outputs": [],
   "source": []
  }
 ],
 "metadata": {
  "accelerator": "TPU",
  "colab": {
   "authorship_tag": "ABX9TyNzRyDg8ePRmfLHD34UbGrv",
   "collapsed_sections": [],
   "machine_shape": "hm",
   "name": "Complex_Questions_Deep_Learning.ipynb",
   "provenance": []
  },
  "kernelspec": {
   "display_name": "Python 3",
   "language": "python",
   "name": "python3"
  },
  "language_info": {
   "codemirror_mode": {
    "name": "ipython",
    "version": 3
   },
   "file_extension": ".py",
   "mimetype": "text/x-python",
   "name": "python",
   "nbconvert_exporter": "python",
   "pygments_lexer": "ipython3",
   "version": "3.6.6"
  }
 },
 "nbformat": 4,
 "nbformat_minor": 1
}
